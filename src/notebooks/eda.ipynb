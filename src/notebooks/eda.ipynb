{
 "cells": [
  {
   "cell_type": "markdown",
   "metadata": {},
   "source": [
    "# Exploracion de datos "
   ]
  },
  {
   "cell_type": "markdown",
   "metadata": {},
   "source": [
    "# Importacion de datos desde API\n",
    "No requiere credenciales"
   ]
  },
  {
   "cell_type": "code",
   "execution_count": null,
   "metadata": {},
   "outputs": [
    {
     "ename": "",
     "evalue": "",
     "output_type": "error",
     "traceback": [
      "\u001b[1;31mLa ejecución de celdas con '.conda (Python 3.12.4)' requiere el paquete ipykernel.\n",
      "\u001b[1;31mEjecute el siguiente comando para instalar 'ipykernel' en el entorno de Python. comando \n",
      "\u001b[1;31m: 'conda install -p /Users/juanfelipearango/Documents/visual studio code/.conda ipykernel --update-deps --force-reinstall'"
     ]
    }
   ],
   "source": [
    "from typing import Final\n",
    "import requests\n",
    "import zipfile\n",
    "import io\n",
    "import pandas as pd\n",
    "import os\n",
    "import logging\n",
    "import warnings\n",
    "import matplotlib.pyplot as plt\n",
    "\n",
    "\n",
    "warnings.filterwarnings('ignore')\n",
    "\n",
    "DATA_DIR: Final = os.path.join(\n",
    "    os.path.dirname(os.getcwd()),\n",
    "    'data',\n",
    "    'raw'\n",
    ")\n",
    "\n",
    "file_path = os.path.join(DATA_DIR, 'online_retail_II.xlsx')\n",
    "\n",
    "if not os.path.exists(file_path):\n",
    "    url = \"https://archive.ics.uci.edu/static/public/502/online+retail+ii.zip\"\n",
    "    response = requests.request(\"GET\", url)\n",
    "    zip_file = zipfile.ZipFile(io.BytesIO(response.content))\n",
    "    zip_file.extractall(path=DATA_DIR)\n",
    "    logging.info(\"Downloaded and extracted the zip file\")\n",
    "\n",
    "# Load the .xlsx file into a pandas dataframe\n",
    "year_2009_2010 = pd.read_excel(file_path, sheet_name='Year 2009-2010')\n",
    "year_2010_2011 = pd.read_excel(file_path, sheet_name='Year 2010-2011')\n",
    "logging.info(\"Loaded the data into a pandas dataframe\")\n",
    "\n",
    "df = pd.concat([year_2009_2010, year_2010_2011], ignore_index=True)\n",
    "df.head(1)\n"
   ]
  },
  {
   "cell_type": "markdown",
   "metadata": {},
   "source": [
    "Observamos los tipos de datos disponibles"
   ]
  },
  {
   "cell_type": "code",
   "execution_count": null,
   "metadata": {},
   "outputs": [
    {
     "ename": "",
     "evalue": "",
     "output_type": "error",
     "traceback": [
      "\u001b[1;31mLa ejecución de celdas con '.conda (Python 3.12.4)' requiere el paquete ipykernel.\n",
      "\u001b[1;31mEjecute el siguiente comando para instalar 'ipykernel' en el entorno de Python. comando \n",
      "\u001b[1;31m: 'conda install -p /Users/juanfelipearango/Documents/visual studio code/.conda ipykernel --update-deps --force-reinstall'"
     ]
    }
   ],
   "source": [
    "df.dtypes"
   ]
  },
  {
   "cell_type": "code",
   "execution_count": null,
   "metadata": {},
   "outputs": [
    {
     "ename": "",
     "evalue": "",
     "output_type": "error",
     "traceback": [
      "\u001b[1;31mLa ejecución de celdas con '.conda (Python 3.12.4)' requiere el paquete ipykernel.\n",
      "\u001b[1;31mEjecute el siguiente comando para instalar 'ipykernel' en el entorno de Python. comando \n",
      "\u001b[1;31m: 'conda install -p /Users/juanfelipearango/Documents/visual studio code/.conda ipykernel --update-deps --force-reinstall'"
     ]
    }
   ],
   "source": [
    "df.shape"
   ]
  },
  {
   "cell_type": "code",
   "execution_count": null,
   "metadata": {},
   "outputs": [
    {
     "ename": "",
     "evalue": "",
     "output_type": "error",
     "traceback": [
      "\u001b[1;31mLa ejecución de celdas con '.conda (Python 3.12.4)' requiere el paquete ipykernel.\n",
      "\u001b[1;31mEjecute el siguiente comando para instalar 'ipykernel' en el entorno de Python. comando \n",
      "\u001b[1;31m: 'conda install -p /Users/juanfelipearango/Documents/visual studio code/.conda ipykernel --update-deps --force-reinstall'"
     ]
    }
   ],
   "source": [
    "df.isnull().sum()"
   ]
  },
  {
   "cell_type": "markdown",
   "metadata": {},
   "source": [
    "# Descripción de las variables"
   ]
  },
  {
   "cell_type": "code",
   "execution_count": null,
   "metadata": {},
   "outputs": [
    {
     "ename": "",
     "evalue": "",
     "output_type": "error",
     "traceback": [
      "\u001b[1;31mLa ejecución de celdas con '.conda (Python 3.12.4)' requiere el paquete ipykernel.\n",
      "\u001b[1;31mEjecute el siguiente comando para instalar 'ipykernel' en el entorno de Python. comando \n",
      "\u001b[1;31m: 'conda install -p /Users/juanfelipearango/Documents/visual studio code/.conda ipykernel --update-deps --force-reinstall'"
     ]
    }
   ],
   "source": [
    "# estadísticas de las columnas categoricas\n",
    "df.describe( include=['object', 'string'])"
   ]
  },
  {
   "cell_type": "markdown",
   "metadata": {},
   "source": [
    "Podemos ver que en el campo Description tenemos valores nulos a analizar. El país con mayores ventas es United Kingdom, tenemos 40 países. El Invoice es el indicador de factura, en realidad en todo el dataset se realizaron 28816 ventas facturadas. "
   ]
  },
  {
   "cell_type": "code",
   "execution_count": null,
   "metadata": {},
   "outputs": [
    {
     "ename": "",
     "evalue": "",
     "output_type": "error",
     "traceback": [
      "\u001b[1;31mLa ejecución de celdas con '.conda (Python 3.12.4)' requiere el paquete ipykernel.\n",
      "\u001b[1;31mEjecute el siguiente comando para instalar 'ipykernel' en el entorno de Python. comando \n",
      "\u001b[1;31m: 'conda install -p /Users/juanfelipearango/Documents/visual studio code/.conda ipykernel --update-deps --force-reinstall'"
     ]
    }
   ],
   "source": [
    "df.describe( include=['float64', 'int64'])"
   ]
  },
  {
   "cell_type": "markdown",
   "metadata": {},
   "source": [
    "En la variable Quantity hay valores fuera de serie grandes, los datos se concentran en valores cercanos a 10, por lo que existe un sesgo a la derecha, es decir los valores tienen una asímetría positiva. Por ende, los datos deben ser escalados o aplicados con un logaritmo en caso de aplicar modelos estadísticos con supuestos en distribuciones normales. El precio presenta el mismo problema de asimetría positiva. Para el Customer se debe cambiar de número a objeto ya que nos interesa la cantidad que veces que compró un mismo cliente, no operaciones entre el ID. "
   ]
  },
  {
   "cell_type": "code",
   "execution_count": null,
   "metadata": {},
   "outputs": [
    {
     "ename": "",
     "evalue": "",
     "output_type": "error",
     "traceback": [
      "\u001b[1;31mLa ejecución de celdas con '.conda (Python 3.12.4)' requiere el paquete ipykernel.\n",
      "\u001b[1;31mEjecute el siguiente comando para instalar 'ipykernel' en el entorno de Python. comando \n",
      "\u001b[1;31m: 'conda install -p /Users/juanfelipearango/Documents/visual studio code/.conda ipykernel --update-deps --force-reinstall'"
     ]
    }
   ],
   "source": [
    "df.describe( include= 'datetime64[ns]')"
   ]
  },
  {
   "cell_type": "markdown",
   "metadata": {},
   "source": [
    "En cuanto al tiempo, el rango o periodo es desde 2009 diciembre hasta 2011 diciembre, abarcando un dos años de ventas online. "
   ]
  },
  {
   "cell_type": "markdown",
   "metadata": {},
   "source": [
    "# Analisis de valores faltantes"
   ]
  },
  {
   "cell_type": "markdown",
   "metadata": {},
   "source": [
    "Lo que realizaremos es un analisis de los valores faltantes para descartar cualquier valor nulo por error de digitación. Para ello, compararemos por StockCode para ver si en el periodo de estudio existe un misdo StockCode con el valor que podría ir en los valores faltantes. "
   ]
  },
  {
   "cell_type": "code",
   "execution_count": null,
   "metadata": {},
   "outputs": [
    {
     "ename": "",
     "evalue": "",
     "output_type": "error",
     "traceback": [
      "\u001b[1;31mLa ejecución de celdas con '.conda (Python 3.12.4)' requiere el paquete ipykernel.\n",
      "\u001b[1;31mEjecute el siguiente comando para instalar 'ipykernel' en el entorno de Python. comando \n",
      "\u001b[1;31m: 'conda install -p /Users/juanfelipearango/Documents/visual studio code/.conda ipykernel --update-deps --force-reinstall'"
     ]
    }
   ],
   "source": [
    "# Step 1: Filter rows where Description or CustomerID is missing\n",
    "missing_values_df = df[df['Description'].isna() | df['Customer ID'].isna()]\n",
    "\n",
    "# Step 2: Group by Stockcode or InvoiceID\n",
    "grouped_by_stockcode = missing_values_df.groupby('StockCode')\n",
    "\n",
    "# Stockcode example\n",
    "inconsistent_stockcode = grouped_by_stockcode.apply(\n",
    "    lambda x: x[['Description', 'Customer ID']].isna().all(axis=0)\n",
    ").reset_index()\n",
    "\n",
    "# Filtering the inconsistent groups where not all values are missing\n",
    "inconsistent_stockcodes = inconsistent_stockcode[inconsistent_stockcode.any(axis=1)]"
   ]
  },
  {
   "cell_type": "code",
   "execution_count": null,
   "metadata": {},
   "outputs": [
    {
     "ename": "",
     "evalue": "",
     "output_type": "error",
     "traceback": [
      "\u001b[1;31mLa ejecución de celdas con '.conda (Python 3.12.4)' requiere el paquete ipykernel.\n",
      "\u001b[1;31mEjecute el siguiente comando para instalar 'ipykernel' en el entorno de Python. comando \n",
      "\u001b[1;31m: 'conda install -p /Users/juanfelipearango/Documents/visual studio code/.conda ipykernel --update-deps --force-reinstall'"
     ]
    }
   ],
   "source": [
    "# no siempre son valores nulos estos codigos:\n",
    "inconsistent_stockcodes.loc[inconsistent_stockcodes.Description == False]"
   ]
  },
  {
   "cell_type": "markdown",
   "metadata": {},
   "source": [
    "Como ejemplo, veamos gift_0001_80 de codigo de Stock, este tiene dos valores posibles como vemos a continuación:"
   ]
  },
  {
   "cell_type": "code",
   "execution_count": null,
   "metadata": {},
   "outputs": [
    {
     "ename": "",
     "evalue": "",
     "output_type": "error",
     "traceback": [
      "\u001b[1;31mLa ejecución de celdas con '.conda (Python 3.12.4)' requiere el paquete ipykernel.\n",
      "\u001b[1;31mEjecute el siguiente comando para instalar 'ipykernel' en el entorno de Python. comando \n",
      "\u001b[1;31m: 'conda install -p /Users/juanfelipearango/Documents/visual studio code/.conda ipykernel --update-deps --force-reinstall'"
     ]
    }
   ],
   "source": [
    "df.loc[df['StockCode'] == 'gift_0001_80'].Description.unique() "
   ]
  },
  {
   "cell_type": "markdown",
   "metadata": {},
   "source": [
    "Como vimos, hay valores que tienen dos opciones o hasta 3. Por ahora vamos a cambiar los valores de nan por el valor que se utiliza en la serie:"
   ]
  },
  {
   "cell_type": "code",
   "execution_count": null,
   "metadata": {},
   "outputs": [
    {
     "ename": "",
     "evalue": "",
     "output_type": "error",
     "traceback": [
      "\u001b[1;31mLa ejecución de celdas con '.conda (Python 3.12.4)' requiere el paquete ipykernel.\n",
      "\u001b[1;31mEjecute el siguiente comando para instalar 'ipykernel' en el entorno de Python. comando \n",
      "\u001b[1;31m: 'conda install -p /Users/juanfelipearango/Documents/visual studio code/.conda ipykernel --update-deps --force-reinstall'"
     ]
    }
   ],
   "source": [
    "# Step 1: Group by StockCode and get unique values in Description\n",
    "unique_values = df.groupby('StockCode')['Description'].unique()\n",
    "\n",
    "# Step 2: Identify StockCodes with exactly one non-null and one NaN value\n",
    "stockcodes_to_impute = unique_values[unique_values.apply(lambda x: len(x) == 2 and pd.isna(x).any())]\n",
    "\n",
    "# Step 3: Create a dictionary for imputation (mapping StockCode to its non-null Description)\n",
    "imputation_dict = {stockcode: next(val for val in values if pd.notna(val)) \n",
    "                   for stockcode, values in stockcodes_to_impute.items()}\n"
   ]
  },
  {
   "cell_type": "markdown",
   "metadata": {},
   "source": [
    "Acá vemos una lista de los códgios de Stock y su respectivo valor no nulo"
   ]
  },
  {
   "cell_type": "code",
   "execution_count": null,
   "metadata": {},
   "outputs": [
    {
     "ename": "",
     "evalue": "",
     "output_type": "error",
     "traceback": [
      "\u001b[1;31mLa ejecución de celdas con '.conda (Python 3.12.4)' requiere el paquete ipykernel.\n",
      "\u001b[1;31mEjecute el siguiente comando para instalar 'ipykernel' en el entorno de Python. comando \n",
      "\u001b[1;31m: 'conda install -p /Users/juanfelipearango/Documents/visual studio code/.conda ipykernel --update-deps --force-reinstall'"
     ]
    }
   ],
   "source": [
    "imputation_dict"
   ]
  },
  {
   "cell_type": "markdown",
   "metadata": {},
   "source": [
    "Vamos a proceder a remplazar los valores nulos cuando al descripción es un valor nulo y su codigo está en el diccionario que creamos:"
   ]
  },
  {
   "cell_type": "code",
   "execution_count": null,
   "metadata": {},
   "outputs": [
    {
     "ename": "",
     "evalue": "",
     "output_type": "error",
     "traceback": [
      "\u001b[1;31mLa ejecución de celdas con '.conda (Python 3.12.4)' requiere el paquete ipykernel.\n",
      "\u001b[1;31mEjecute el siguiente comando para instalar 'ipykernel' en el entorno de Python. comando \n",
      "\u001b[1;31m: 'conda install -p /Users/juanfelipearango/Documents/visual studio code/.conda ipykernel --update-deps --force-reinstall'"
     ]
    }
   ],
   "source": [
    "# Step 4: Apply the imputation only for the same StockCode\n",
    "df['Description'] = df.apply(\n",
    "    lambda row: imputation_dict[row['StockCode']] \n",
    "    if pd.isna(row['Description']) and row['StockCode'] in imputation_dict else row['Description'], axis=1\n",
    ")"
   ]
  },
  {
   "cell_type": "markdown",
   "metadata": {},
   "source": [
    "Veamos el mismo ejemplo de antes:"
   ]
  },
  {
   "cell_type": "code",
   "execution_count": null,
   "metadata": {},
   "outputs": [
    {
     "ename": "",
     "evalue": "",
     "output_type": "error",
     "traceback": [
      "\u001b[1;31mLa ejecución de celdas con '.conda (Python 3.12.4)' requiere el paquete ipykernel.\n",
      "\u001b[1;31mEjecute el siguiente comando para instalar 'ipykernel' en el entorno de Python. comando \n",
      "\u001b[1;31m: 'conda install -p /Users/juanfelipearango/Documents/visual studio code/.conda ipykernel --update-deps --force-reinstall'"
     ]
    }
   ],
   "source": [
    "df.loc[df['StockCode'] == 'gift_0001_80'].Description.unique() "
   ]
  },
  {
   "cell_type": "markdown",
   "metadata": {},
   "source": [
    "Procedemos a ver los valores nulos nuevamente:"
   ]
  },
  {
   "cell_type": "code",
   "execution_count": null,
   "metadata": {},
   "outputs": [
    {
     "ename": "",
     "evalue": "",
     "output_type": "error",
     "traceback": [
      "\u001b[1;31mLa ejecución de celdas con '.conda (Python 3.12.4)' requiere el paquete ipykernel.\n",
      "\u001b[1;31mEjecute el siguiente comando para instalar 'ipykernel' en el entorno de Python. comando \n",
      "\u001b[1;31m: 'conda install -p /Users/juanfelipearango/Documents/visual studio code/.conda ipykernel --update-deps --force-reinstall'"
     ]
    }
   ],
   "source": [
    "df.isna().sum()"
   ]
  },
  {
   "cell_type": "markdown",
   "metadata": {},
   "source": [
    "reducimos los valores nulos de Description de 4382 a 1320 una reducción del 70% aproximadamente con este enfoque.\n",
    "Ahora veamos los valores faltantes y detectemos cuando estos valores son solamente nulos:"
   ]
  },
  {
   "cell_type": "code",
   "execution_count": null,
   "metadata": {},
   "outputs": [
    {
     "ename": "",
     "evalue": "",
     "output_type": "error",
     "traceback": [
      "\u001b[1;31mLa ejecución de celdas con '.conda (Python 3.12.4)' requiere el paquete ipykernel.\n",
      "\u001b[1;31mEjecute el siguiente comando para instalar 'ipykernel' en el entorno de Python. comando \n",
      "\u001b[1;31m: 'conda install -p /Users/juanfelipearango/Documents/visual studio code/.conda ipykernel --update-deps --force-reinstall'"
     ]
    }
   ],
   "source": [
    "# Step 1: Filter rows where Description or CustomerID is missing\n",
    "missing_values_df = df[df['Description'].isna() | df['Customer ID'].isna()]\n",
    "\n",
    "# Step 2: Group by Stockcode or InvoiceID\n",
    "grouped_by_stockcode = missing_values_df.groupby('StockCode')\n",
    "\n",
    "# Stockcode example\n",
    "inconsistent_stockcode = grouped_by_stockcode.apply(\n",
    "    lambda x: x[['Description', 'Customer ID']].isna().all(axis=0)\n",
    ").reset_index()\n",
    "\n",
    "# Filtering the inconsistent groups where not all values are missing\n",
    "inconsistent_stockcodes = inconsistent_stockcode[inconsistent_stockcode.any(axis=1)]\n",
    "\n"
   ]
  },
  {
   "cell_type": "code",
   "execution_count": null,
   "metadata": {},
   "outputs": [
    {
     "ename": "",
     "evalue": "",
     "output_type": "error",
     "traceback": [
      "\u001b[1;31mLa ejecución de celdas con '.conda (Python 3.12.4)' requiere el paquete ipykernel.\n",
      "\u001b[1;31mEjecute el siguiente comando para instalar 'ipykernel' en el entorno de Python. comando \n",
      "\u001b[1;31m: 'conda install -p /Users/juanfelipearango/Documents/visual studio code/.conda ipykernel --update-deps --force-reinstall'"
     ]
    }
   ],
   "source": [
    "# no siempre son valores nulos estos codigos:\n",
    "inconsistent_stockcodes.loc[inconsistent_stockcodes.Description == True]"
   ]
  },
  {
   "cell_type": "code",
   "execution_count": null,
   "metadata": {},
   "outputs": [
    {
     "ename": "",
     "evalue": "",
     "output_type": "error",
     "traceback": [
      "\u001b[1;31mLa ejecución de celdas con '.conda (Python 3.12.4)' requiere el paquete ipykernel.\n",
      "\u001b[1;31mEjecute el siguiente comando para instalar 'ipykernel' en el entorno de Python. comando \n",
      "\u001b[1;31m: 'conda install -p /Users/juanfelipearango/Documents/visual studio code/.conda ipykernel --update-deps --force-reinstall'"
     ]
    }
   ],
   "source": [
    "df.loc[df['StockCode'] == 'gift_0001_60'].Description.unique() "
   ]
  },
  {
   "cell_type": "markdown",
   "metadata": {},
   "source": [
    "Como vemos, tenemos 361 casos en donde el valor de Descripcion siempre es nulo. Ahora para analizar como la eliminación de estos valores afectaría un modelo predictivo: "
   ]
  },
  {
   "cell_type": "code",
   "execution_count": null,
   "metadata": {},
   "outputs": [
    {
     "ename": "",
     "evalue": "",
     "output_type": "error",
     "traceback": [
      "\u001b[1;31mLa ejecución de celdas con '.conda (Python 3.12.4)' requiere el paquete ipykernel.\n",
      "\u001b[1;31mEjecute el siguiente comando para instalar 'ipykernel' en el entorno de Python. comando \n",
      "\u001b[1;31m: 'conda install -p /Users/juanfelipearango/Documents/visual studio code/.conda ipykernel --update-deps --force-reinstall'"
     ]
    }
   ],
   "source": [
    "# agrupamos por StockCode\n",
    "grouped_by_stockcode = df.groupby('StockCode')\n",
    "stockcodes_with_nan = grouped_by_stockcode.apply(lambda x: x['Description'].isna().all())\n",
    "stockcodes_with_nan = stockcodes_with_nan[stockcodes_with_nan].index.tolist()"
   ]
  },
  {
   "cell_type": "code",
   "execution_count": null,
   "metadata": {},
   "outputs": [
    {
     "ename": "",
     "evalue": "",
     "output_type": "error",
     "traceback": [
      "\u001b[1;31mLa ejecución de celdas con '.conda (Python 3.12.4)' requiere el paquete ipykernel.\n",
      "\u001b[1;31mEjecute el siguiente comando para instalar 'ipykernel' en el entorno de Python. comando \n",
      "\u001b[1;31m: 'conda install -p /Users/juanfelipearango/Documents/visual studio code/.conda ipykernel --update-deps --force-reinstall'"
     ]
    }
   ],
   "source": [
    "stockcodes_with_nan\n",
    "# un vistazo de los StockCode que siempre son nulos en descripcion"
   ]
  },
  {
   "cell_type": "markdown",
   "metadata": {},
   "source": [
    "Podemos ver un resumen estadistico de los valores que siempre son nulos en StockCode:"
   ]
  },
  {
   "cell_type": "code",
   "execution_count": null,
   "metadata": {},
   "outputs": [
    {
     "ename": "",
     "evalue": "",
     "output_type": "error",
     "traceback": [
      "\u001b[1;31mLa ejecución de celdas con '.conda (Python 3.12.4)' requiere el paquete ipykernel.\n",
      "\u001b[1;31mEjecute el siguiente comando para instalar 'ipykernel' en el entorno de Python. comando \n",
      "\u001b[1;31m: 'conda install -p /Users/juanfelipearango/Documents/visual studio code/.conda ipykernel --update-deps --force-reinstall'"
     ]
    }
   ],
   "source": [
    "df.loc[df['StockCode'].isin(stockcodes_with_nan)].describe(include=['int64', 'float64'])"
   ]
  },
  {
   "cell_type": "markdown",
   "metadata": {},
   "source": [
    "Con esto vemos que también son siempre nulos los valores de Customer ID, el precio es 0 siempre y las cantidades son negativas o con un maximo de 160 cantidades, concentrandoce en -44 los datos, pero tenemos una asímetría positiva en los datos, es decir hay valores muy negativos que afectan el calculo llegando hasta -5000 aproximadamente. \n",
    "\n",
    "\n",
    "Por lo anterior, podemos eliminar los valores nulos, abajo dejo una grafica donde muestro que con esto se afecta únicamente los valores de reino unido. "
   ]
  },
  {
   "cell_type": "code",
   "execution_count": null,
   "metadata": {},
   "outputs": [
    {
     "ename": "",
     "evalue": "",
     "output_type": "error",
     "traceback": [
      "\u001b[1;31mLa ejecución de celdas con '.conda (Python 3.12.4)' requiere el paquete ipykernel.\n",
      "\u001b[1;31mEjecute el siguiente comando para instalar 'ipykernel' en el entorno de Python. comando \n",
      "\u001b[1;31m: 'conda install -p /Users/juanfelipearango/Documents/visual studio code/.conda ipykernel --update-deps --force-reinstall'"
     ]
    }
   ],
   "source": [
    "df.loc[df['StockCode'].isin(stockcodes_with_nan)]['Country'].hist()\n",
    "plt.show()"
   ]
  },
  {
   "cell_type": "code",
   "execution_count": null,
   "metadata": {},
   "outputs": [
    {
     "ename": "",
     "evalue": "",
     "output_type": "error",
     "traceback": [
      "\u001b[1;31mLa ejecución de celdas con '.conda (Python 3.12.4)' requiere el paquete ipykernel.\n",
      "\u001b[1;31mEjecute el siguiente comando para instalar 'ipykernel' en el entorno de Python. comando \n",
      "\u001b[1;31m: 'conda install -p /Users/juanfelipearango/Documents/visual studio code/.conda ipykernel --update-deps --force-reinstall'"
     ]
    }
   ],
   "source": [
    "df = df[~df['StockCode'].isin(stockcodes_with_nan)]"
   ]
  },
  {
   "cell_type": "code",
   "execution_count": null,
   "metadata": {},
   "outputs": [
    {
     "ename": "",
     "evalue": "",
     "output_type": "error",
     "traceback": [
      "\u001b[1;31mLa ejecución de celdas con '.conda (Python 3.12.4)' requiere el paquete ipykernel.\n",
      "\u001b[1;31mEjecute el siguiente comando para instalar 'ipykernel' en el entorno de Python. comando \n",
      "\u001b[1;31m: 'conda install -p /Users/juanfelipearango/Documents/visual studio code/.conda ipykernel --update-deps --force-reinstall'"
     ]
    }
   ],
   "source": [
    "df.describe()"
   ]
  }
 ],
 "metadata": {
  "kernelspec": {
   "display_name": "Python 3 (ipykernel)",
   "language": "python",
   "name": "python3"
  },
  "language_info": {
   "codemirror_mode": {
    "name": "ipython",
    "version": 3
   },
   "file_extension": ".py",
   "mimetype": "text/x-python",
   "name": "python",
   "nbconvert_exporter": "python",
   "pygments_lexer": "ipython3",
   "version": "3.12.4"
  }
 },
 "nbformat": 4,
 "nbformat_minor": 4
}
